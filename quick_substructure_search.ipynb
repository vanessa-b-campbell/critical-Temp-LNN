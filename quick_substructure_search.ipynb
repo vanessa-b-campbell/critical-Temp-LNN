{
 "cells": [
  {
   "cell_type": "code",
   "execution_count": 4,
   "metadata": {},
   "outputs": [
    {
     "name": "stdout",
     "output_type": "stream",
     "text": [
      "True\n"
     ]
    }
   ],
   "source": [
    "from rdkit import Chem\n",
    "\n",
    "# search w/ SMARTs\n",
    "\n",
    "# molecule\n",
    "smiles = \"C[Si@]1(c2ccccc2)O[Si@@](C)(c2ccccc2)O[Si@@](C)(c2ccccc2)O1\"\n",
    "# pattern\n",
    "smarts = \"[Si]\"\n",
    "\n",
    "\n",
    "\n",
    "mol = Chem.MolFromSmiles(smiles)\n",
    "pattern = Chem.MolFromSmarts(smarts)\n",
    "has_pattern = mol.HasSubstructMatch(pattern)\n",
    "print(has_pattern)"
   ]
  },
  {
   "cell_type": "code",
   "execution_count": 5,
   "metadata": {},
   "outputs": [
    {
     "name": "stdout",
     "output_type": "stream",
     "text": [
      "True\n"
     ]
    }
   ],
   "source": [
    "from rdkit import Chem\n",
    "\n",
    "# search w/ SMILEs\n",
    "\n",
    "# molecule\n",
    "smiles = \"C[Si@]1(c2ccccc2)O[Si@@](C)(c2ccccc2)O[Si@@](C)(c2ccccc2)O1\"\n",
    "# pattern\n",
    "pattern = \"O\"\n",
    "\n",
    "\n",
    "\n",
    "mol = Chem.MolFromSmiles(smiles)\n",
    "s_pattern = Chem.MolFromSmiles(pattern)\n",
    "has_pattern = mol.HasSubstructMatch(s_pattern)\n",
    "print(has_pattern)"
   ]
  }
 ],
 "metadata": {
  "kernelspec": {
   "display_name": "my-deeppy-env",
   "language": "python",
   "name": "python3"
  },
  "language_info": {
   "codemirror_mode": {
    "name": "ipython",
    "version": 3
   },
   "file_extension": ".py",
   "mimetype": "text/x-python",
   "name": "python",
   "nbconvert_exporter": "python",
   "pygments_lexer": "ipython3",
   "version": "3.11.4"
  },
  "orig_nbformat": 4,
  "vscode": {
   "interpreter": {
    "hash": "4666bf634bf2b84bdac1329313abbf80c1df0cc08c8bae21e2434bd26cff8db0"
   }
  }
 },
 "nbformat": 4,
 "nbformat_minor": 2
}

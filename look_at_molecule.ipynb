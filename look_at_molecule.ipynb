{
 "cells": [
  {
   "cell_type": "code",
   "execution_count": 1,
   "metadata": {},
   "outputs": [],
   "source": [
    "# need to look at some of these molecules frfr\n",
    "from rdkit import Chem\n",
    "from rdkit.Chem import Draw\n",
    "\n",
    "molecule_smile = 'c1ccoc1'\n",
    "mol = Chem.MolFromSmiles(molecule_smile)\n",
    "img = Draw.MolToImage(mol)\n",
    "img.show()"
   ]
  }
 ],
 "metadata": {
  "kernelspec": {
   "display_name": "my-deeppy-env",
   "language": "python",
   "name": "python3"
  },
  "language_info": {
   "codemirror_mode": {
    "name": "ipython",
    "version": 3
   },
   "file_extension": ".py",
   "mimetype": "text/x-python",
   "name": "python",
   "nbconvert_exporter": "python",
   "pygments_lexer": "ipython3",
   "version": "3.11.4"
  },
  "orig_nbformat": 4,
  "vscode": {
   "interpreter": {
    "hash": "4666bf634bf2b84bdac1329313abbf80c1df0cc08c8bae21e2434bd26cff8db0"
   }
  }
 },
 "nbformat": 4,
 "nbformat_minor": 2
}

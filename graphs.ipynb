{
 "cells": [
  {
   "cell_type": "code",
   "execution_count": 2,
   "metadata": {},
   "outputs": [],
   "source": [
    "import matplotlib.pyplot as plt\n",
    "import numpy as np\n",
    "from Molecule_dataset import MoleculeDataset"
   ]
  },
  {
   "cell_type": "code",
   "execution_count": 3,
   "metadata": {},
   "outputs": [
    {
     "name": "stdout",
     "output_type": "stream",
     "text": [
      "(1155, 2049)\n"
     ]
    }
   ],
   "source": [
    "data = MoleculeDataset(\"/home/jbd3qn/Downloads/critical_temp/clean_fgrPrnt_dataset.csv\")"
   ]
  },
  {
   "cell_type": "code",
   "execution_count": 4,
   "metadata": {},
   "outputs": [],
   "source": [
    "x = data.input_vector\n",
    "y = data.output_targets"
   ]
  },
  {
   "cell_type": "code",
   "execution_count": null,
   "metadata": {},
   "outputs": [],
   "source": [
    "# this will not run because x and y are not equal. \n",
    "# must convert fingerprints into something that will represent it with a single index\n",
    "# sigh\n",
    "plt.plot(x,y)\n",
    "plt.xlabel('fingerprint')\n",
    "plt.ylabel('critical temp')\n",
    "plt.show()"
   ]
  }
 ],
 "metadata": {
  "kernelspec": {
   "display_name": "my-deeppy-env",
   "language": "python",
   "name": "python3"
  },
  "language_info": {
   "codemirror_mode": {
    "name": "ipython",
    "version": 3
   },
   "file_extension": ".py",
   "mimetype": "text/x-python",
   "name": "python",
   "nbconvert_exporter": "python",
   "pygments_lexer": "ipython3",
   "version": "3.11.4"
  },
  "orig_nbformat": 4,
  "vscode": {
   "interpreter": {
    "hash": "4666bf634bf2b84bdac1329313abbf80c1df0cc08c8bae21e2434bd26cff8db0"
   }
  }
 },
 "nbformat": 4,
 "nbformat_minor": 2
}

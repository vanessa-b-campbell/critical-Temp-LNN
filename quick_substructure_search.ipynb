{
 "cells": [
  {
   "cell_type": "code",
   "execution_count": 3,
   "metadata": {},
   "outputs": [
    {
     "name": "stdout",
     "output_type": "stream",
     "text": [
      "True\n"
     ]
    }
   ],
   "source": [
    "from rdkit import Chem\n",
    "\n",
    "# substructure search with SMARTs pattern\n",
    "smiles = \"C[Si@]1(c2ccccc2)O[Si@@](C)(c2ccccc2)O[Si@@](C)(c2ccccc2)O1\"\n",
    "mol = Chem.MolFromSmiles(smiles)\n",
    "pattern = Chem.MolFromSmarts(\"[Si]\")\n",
    "has_pattern = mol.HasSubstructMatch(pattern)\n",
    "print(has_pattern)"
   ]
  },
  {
   "cell_type": "code",
   "execution_count": 2,
   "metadata": {},
   "outputs": [
    {
     "name": "stdout",
     "output_type": "stream",
     "text": [
      "True\n"
     ]
    }
   ],
   "source": [
    "from rdkit import Chem\n",
    "\n",
    "# substructure search with SMILEs pattern\n",
    "smiles = \"C[Si@]1(c2ccccc2)O[Si@@](C)(c2ccccc2)O[Si@@](C)(c2ccccc2)O1\"\n",
    "mol = Chem.MolFromSmiles(smiles)\n",
    "pattern = Chem.MolFromSmiles(\"O\")\n",
    "has_pattern = mol.HasSubstructMatch(pattern)\n",
    "print(has_pattern)"
   ]
  }
 ],
 "metadata": {
  "kernelspec": {
   "display_name": "my-deeppy-env",
   "language": "python",
   "name": "python3"
  },
  "language_info": {
   "codemirror_mode": {
    "name": "ipython",
    "version": 3
   },
   "file_extension": ".py",
   "mimetype": "text/x-python",
   "name": "python",
   "nbconvert_exporter": "python",
   "pygments_lexer": "ipython3",
   "version": "3.11.4"
  },
  "orig_nbformat": 4,
  "vscode": {
   "interpreter": {
    "hash": "4666bf634bf2b84bdac1329313abbf80c1df0cc08c8bae21e2434bd26cff8db0"
   }
  }
 },
 "nbformat": 4,
 "nbformat_minor": 2
}
